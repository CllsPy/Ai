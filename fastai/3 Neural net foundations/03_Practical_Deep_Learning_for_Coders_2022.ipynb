{
  "nbformat": 4,
  "nbformat_minor": 0,
  "metadata": {
    "colab": {
      "private_outputs": true,
      "provenance": []
    },
    "kernelspec": {
      "name": "python3",
      "display_name": "Python 3"
    },
    "language_info": {
      "name": "python"
    }
  },
  "cells": [
    {
      "cell_type": "markdown",
      "source": [
        "# [Fonte](https://www.kaggle.com/code/jhoward/how-does-a-neural-net-really-work)"
      ],
      "metadata": {
        "id": "vOTcQxUhmJa-"
      }
    },
    {
      "cell_type": "code",
      "source": [
        "from ipywidgets import interact\n",
        "from fastai.basics import *\n",
        "\n",
        "plt.rc('figure', dpi=90)\n",
        "\n",
        "def plot_function(f, title=None, min=-2.1, max=2.1, color='r', ylim=None):\n",
        "    x = torch.linspace(min,max, 100)[:,None]\n",
        "    if ylim: plt.ylim(ylim)\n",
        "    plt.plot(x, f(x), color)\n",
        "    if title is not None: plt.title(title)"
      ],
      "metadata": {
        "id": "5xTXeDvPlPRx"
      },
      "execution_count": null,
      "outputs": []
    },
    {
      "cell_type": "markdown",
      "source": [
        "Essa é a noção função Quadrática, de coeficientes 3, 2 e 1."
      ],
      "metadata": {
        "id": "YQKRPHI3qnL4"
      }
    },
    {
      "cell_type": "code",
      "source": [
        "def f(x): return 3*x**2 + 2*x + 1\n",
        "\n",
        "plot_function(f, \"$3x^2 + 2x + 1$\")"
      ],
      "metadata": {
        "id": "cXzMR_jZmCeO"
      },
      "execution_count": null,
      "outputs": []
    },
    {
      "cell_type": "markdown",
      "source": [
        "Agora imagine que não sabemos qual equação gerou ela, originalmente."
      ],
      "metadata": {
        "id": "1VQDutQeqwdL"
      }
    },
    {
      "cell_type": "code",
      "source": [
        "# Gerar função quadrática\n",
        "def quad(a, b, c, x):\n",
        "  return a*x**2 + b*x + c\n",
        "\n",
        "# Padronizar criação da equação quadrática\n",
        "def mk_quad(a,b,c):\n",
        "  return partial(quad, a,b,c) # <- dúvida"
      ],
      "metadata": {
        "id": "qIL7cX_bq0xd"
      },
      "execution_count": null,
      "outputs": []
    },
    {
      "cell_type": "code",
      "source": [
        "f2 = mk_quad(3,2,1)\n",
        "plot_function(f2)"
      ],
      "metadata": {
        "id": "sp30Ya5XrvYS"
      },
      "execution_count": null,
      "outputs": []
    }
  ]
}