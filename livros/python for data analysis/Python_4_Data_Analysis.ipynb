{
  "nbformat": 4,
  "nbformat_minor": 0,
  "metadata": {
    "colab": {
      "private_outputs": true,
      "provenance": [],
      "collapsed_sections": [
        "LviN9LT9w6rO"
      ]
    },
    "kernelspec": {
      "name": "python3",
      "display_name": "Python 3"
    },
    "language_info": {
      "name": "python"
    }
  },
  "cells": [
    {
      "cell_type": "markdown",
      "source": [
        "# Ações\n",
        "\n",
        "1. Instrospectin: **você pode usar `?` na frente de um objeto para obter informações sobe ele.**\n",
        "2. Magic Commands: **simplifica tarefas comuns como o tempo de execução.**\n",
        "3. Dates and times: **existe um módulo que possibilida trabalhar com datas**\n",
        "    ```\n",
        "    from datetime import datetime, date, time\n",
        "    ```\n",
        "4. A função `enumerate`: permite saber qual elemento e seu índice.\n",
        "5. A função `sorted`: organiza os elementos de uma lista na ordem.\n",
        "\n",
        "    Também  é possível usar `reversed` para inverter a lista.\n",
        "\n",
        "6. A função `zip`: combina os elementos de duas listas diferentes.\n",
        "\n",
        "    Um uso comum da função `zip` e `enumerate`.\n",
        "    ```\n",
        "    In [95]: for i, (a, b) in enumerate(zip(seq1, seq2)):\n",
        "    ....:     print('{0}: {1}, {2}'.format(i, a, b))\n",
        "    ....:\n",
        "    0: foo, one\n",
        "    1: bar, two\n",
        "    2: baz, three\n",
        "    ```\n",
        "7. Lambda function: permite escrever funções simples rapidamente.\n",
        "8. Currying: quando uma função chama outra função existente.\n",
        "    Esse processo é facitado usando o módulo `partial`.\n",
        "\n",
        "    ```\n",
        "    def add_numbers(x, y):\n",
        "       return x + y\n",
        "        \n",
        "    from functools import partial\n",
        "    add_five = partial(add_numbers, 5)\n",
        "    ```\n",
        "9. O módutlo `intertools` permite agrupar elementos.\n",
        "10. Error e Exceptions: permite gerenciar possíveis erros de maneira mais adequada.\n",
        "11. Files: em Python é possível gerenciar arquivos.\n",
        "\n",
        "# Quotes\n",
        "\n",
        "> *An important characteristic of the Python language is the consistency of its object model.*\n",
        "\n",
        "Tudo em Python é um objeto.\n",
        "\n",
        "> *In a business setting, most data may not be stored in text or Excel files.SQL-based relational databases (such as SQL Server, PostgreSQL, and MySQL)are in wide use, and many alternative databases have become quite popular.*\n"
      ],
      "metadata": {
        "id": "_f-4W4Nhlp9B"
      }
    },
    {
      "cell_type": "markdown",
      "source": [
        "# Plus"
      ],
      "metadata": {
        "id": "LviN9LT9w6rO"
      }
    },
    {
      "cell_type": "markdown",
      "source": [
        "## sqlite"
      ],
      "metadata": {
        "id": "Xyog_fwYw-hy"
      }
    },
    {
      "cell_type": "code",
      "source": [
        "import sqlite3\n",
        "\n",
        "query = \"\"\"\n",
        " CREATE TABLE test\n",
        " (a VARCHAR(20), b VARCHAR(20),\n",
        " c REAL,        d INTEGER\n",
        "  );\"\"\"\n",
        "\n",
        "con = sqlite3.connect('mydata.sqlite')\n",
        "con.execute(query)\n",
        "con.commit()\n",
        "\n",
        "data = [('Atlanta', 'Georgia', 1.25, 6),\n",
        "        ('Tallahassee', 'Florida', 2.6, 3),\n",
        "        ('Sacramento', 'California', 1.7, 5)]\n",
        "\n",
        "stmt = \"INSERT INTO test VALUES(?, ?, ?, ?)\"\n",
        "con.executemany(stmt, data)\n",
        "con.commit()"
      ],
      "metadata": {
        "id": "hb42x0YDpDck"
      },
      "execution_count": null,
      "outputs": []
    },
    {
      "cell_type": "code",
      "source": [
        "cursor = con.execute('select * from test')\n",
        "rows = cursor.fetchall()\n",
        "rows"
      ],
      "metadata": {
        "id": "F6nMiFFnwuTt"
      },
      "execution_count": null,
      "outputs": []
    }
  ]
}