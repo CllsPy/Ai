{
  "nbformat": 4,
  "nbformat_minor": 0,
  "metadata": {
    "colab": {
      "provenance": []
    },
    "kernelspec": {
      "name": "python3",
      "display_name": "Python 3"
    },
    "language_info": {
      "name": "python"
    }
  },
  "cells": [
    {
      "cell_type": "code",
      "source": [
        "from sklearn.datasets import make_regression\n",
        "\n",
        "theta = np.array([1, 2])\n",
        "X = np.array([[1, 2, 3], [4, 5, 6]])  # 2 features, 3 examples\n",
        "y = np.array([7, 8, 9])  # Target values"
      ],
      "metadata": {
        "id": "jGQfX4fAUQRu"
      },
      "execution_count": 221,
      "outputs": []
    },
    {
      "cell_type": "code",
      "source": [
        "import numpy as np\n",
        "\n",
        "def linear_regression(theta, X, y):\n",
        "    \"\"\"\n",
        "    Arguments:\n",
        "    theta - Um vetor contendo os valores dos parâmetros a serem otimizados.\n",
        "    X - Os exemplos armazenados em uma matriz.\n",
        "        X[i,j] é a i-ésima coordenada do j-ésimo exemplo.\n",
        "    y - O valor alvo para cada exemplo. y[j] é o alvo do exemplo j.\n",
        "    \"\"\"\n",
        "\n",
        "    m = X.shape[1]  # número de exemplos\n",
        "    n = X.shape[0]  # número de características\n",
        "\n",
        "    f = 0  # valor da função objetivo\n",
        "    g = np.zeros(theta.shape)  # gradiente inicializado com zeros\n",
        "\n",
        "    ## Código aqui\n",
        "\n",
        "    for j in range(m):\n",
        "        f += (y[j] - (np.dot(X[:, j], theta)))**2\n",
        "\n",
        "    return f/(2*m)\n",
        "\n",
        "\n",
        "linear_regression(theta, X, y)"
      ],
      "metadata": {
        "colab": {
          "base_uri": "https://localhost:8080/"
        },
        "id": "FBb_dZCcSpq3",
        "outputId": "6d0c74b5-932c-43d5-d73f-d5bb2a1bd64f"
      },
      "execution_count": 223,
      "outputs": [
        {
          "output_type": "execute_result",
          "data": {
            "text/plain": [
              "9.333333333333334"
            ]
          },
          "metadata": {},
          "execution_count": 223
        }
      ]
    }
  ]
}