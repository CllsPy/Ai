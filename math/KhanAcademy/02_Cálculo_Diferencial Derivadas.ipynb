{
  "nbformat": 4,
  "nbformat_minor": 0,
  "metadata": {
    "colab": {
      "private_outputs": true,
      "provenance": []
    },
    "kernelspec": {
      "name": "python3",
      "display_name": "Python 3"
    },
    "language_info": {
      "name": "python"
    }
  },
  "cells": [
    {
      "cell_type": "code",
      "execution_count": null,
      "metadata": {
        "id": "IbLDukwMmfsR"
      },
      "outputs": [],
      "source": [
        "import numpy as np\n",
        "import matplotlib.pyplot as plt"
      ]
    },
    {
      "cell_type": "markdown",
      "source": [
        "![teste1-unidade2.png](data:image/png;base64,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)"
      ],
      "metadata": {
        "id": "cHLYvYf-W7N7"
      }
    },
    {
      "cell_type": "markdown",
      "source": [
        "# Unidade 2\n",
        "\n",
        "1. [Markdown + LaTeX](https://ashki23.github.io/markdown-latex.html)\n",
        "\n",
        "2. [Matplotlib](https://matplotlib.org/stable/users/explain/quick_start.html)\n",
        "\n",
        "3. [how do we know the derivative of ln(x) is 1/x (the definition & implicit differentiation](https://www.youtube.com/watch?v=Xc1YdpWcKsQ)\n"
      ],
      "metadata": {
        "id": "NI8TjqvSmlsJ"
      }
    },
    {
      "cell_type": "markdown",
      "source": [
        "## Newton, Leibniz e Usain Bolt\n",
        "\n",
        "Para achar a velocidade instatânea de um objeto em movimento (considerando que ela varia em cada ponto da sua trajetória), fazemos:\n",
        "\n",
        "<br>\n",
        "\n",
        "$$\\lim_{x \\to 0} \\dfrac{\\Delta y}{\\Delta x}$$\n",
        "\n",
        "\n",
        "<br>\n",
        "\n",
        "Isto é feito justamente porque a essência do cálculo é tentar entender qual a velocidade de algo em um ponto específico da função. Além disso, essa ideia remente ao conceito do **Limite** de uma função.\n",
        "\n",
        "<br>\n",
        "\n",
        "> \"*A inclinação instantâne da reta tangente a um ponto específico da curso chama-se a derivada da função f(x).*\"\n",
        "\n",
        "<br>\n",
        "\n",
        "$$\\lim_{x \\to 0} \\dfrac{\\Delta y}{\\Delta x} = \\dfrac {dy}{dx}$$\n",
        "\n"
      ],
      "metadata": {
        "id": "V3IjejmlmqiY"
      }
    },
    {
      "cell_type": "markdown",
      "source": [
        "## Derivada como conceito\n",
        "\n",
        "A inclinação da uma reta,relaciona a taxa de variação entre uma variável horizonal (x) e uma vertical (f(x)). Para calcular a inclinação usamos:\n",
        "\n",
        "<br>\n",
        "\n",
        "$$\\dfrac{\\Delta y}{\\Delta x} = inclinação$$\n",
        "\n",
        "<br>\n",
        "\n",
        "O cálculo importa porque lhe permite calcular a taxa instantânea em uma curva e não em uma reta (onde essa valor é sempre o mesmo). Como as curvas da imagem abaixo.\n",
        "\n",
        "![](https://encrypted-tbn0.gstatic.com/images?q=tbn:ANd9GcQDB2hK91TDCUnN5YTZISXcw0Gfe0gsZF_tTw&s)\n",
        "\n",
        "Fig 1.\n"
      ],
      "metadata": {
        "id": "47DxOkVZsIVa"
      }
    },
    {
      "cell_type": "markdown",
      "source": [
        "## Retas secantes e taxa de variação média\n"
      ],
      "metadata": {
        "id": "hxPFDYzfwN3W"
      }
    },
    {
      "cell_type": "code",
      "source": [
        "def plotx2():\n",
        "    fig, ax = plt.subplots(figsize=(5, 2.7), layout='constrained')\n",
        "    x = np.linspace(0, 4)\n",
        "    y = [fx**2 for fx in x]\n",
        "\n",
        "    ax.plot(x, y, color='red', linestyle=\"--\")\n",
        "    ax.set_title(\"x^2\")\n",
        "    ax.set_ylabel(\"f(x)\")\n",
        "    ax.set_xlabel(\"x\")\n",
        "    ax.grid(True)\n",
        "\n",
        "plotx2()"
      ],
      "metadata": {
        "id": "HROKUbXywRO9"
      },
      "execution_count": null,
      "outputs": []
    },
    {
      "cell_type": "markdown",
      "source": [
        "Qual seria a variação média em [1, 3] para a funçãoa acima?\n",
        "\n",
        "x|f(x)\n",
        "---|:---\n",
        "1|  1|\n",
        "3|  9|\n",
        "\n",
        "Nesse caso, a variação fica sendo:\n",
        "\n",
        "\n",
        "$$\\dfrac{\\Delta y}{\\Delta x} = \\dfrac{9 - 1}{3 - 1}  = 4$$\n",
        "\n",
        "<br>\n",
        "\n",
        "*Isso significa que, para cada uma unidade que x aumentar, y aumenta 4 unidades.*\n",
        "\n",
        "<br>\n",
        "\n",
        "**Reta Secante**\n",
        "\n",
        "A **reta Secante**,  também é a taxa de variação média.\n",
        "\n",
        "![](https://wiki.sj.ifsc.edu.br/images/8/8c/Reta_secante.png)\n",
        "\n",
        "\n",
        "> Se eu for aproximando $P$ de $Q$, vou ficando cada vez mais próximo da velocidade instântanea, nesse caso, deixa de ser um problema de variação e vira um problema fundamental do cálculo, **a derivada**."
      ],
      "metadata": {
        "id": "SYHNC34Vx6Fa"
      }
    },
    {
      "cell_type": "markdown",
      "source": [
        "## Exercícios\n",
        "\n",
        "<br>\n",
        "\n",
        "1. Qual é o coeficiente angular da reta secante que intercepta o gráfico de $g(x) = 3^{2x} $ em $x = 0$ e $x = 2$?"
      ],
      "metadata": {
        "id": "xopmXK1gfxuY"
      }
    },
    {
      "cell_type": "code",
      "source": [
        "def plotx2():\n",
        "    fig, ax = plt.subplots(figsize=(5, 2.7), layout='constrained')\n",
        "    x = np.linspace(0, 2)\n",
        "    y = [(3**(2*fx)) for fx in x]\n",
        "\n",
        "    ax.plot(x, y, color='red', linestyle=\"--\")\n",
        "    # ax.set_title(\"x^2\")\n",
        "    # ax.set_ylabel(\"f(x)\")\n",
        "    # ax.set_xlabel(\"x\")\n",
        "    ax.grid(True)\n",
        "\n",
        "plotx2()"
      ],
      "metadata": {
        "id": "YaIaVV6igB2v"
      },
      "execution_count": null,
      "outputs": []
    },
    {
      "cell_type": "markdown",
      "source": [
        "\n",
        "## Definição de derivada"
      ],
      "metadata": {
        "id": "A50A7FXTlLfu"
      }
    },
    {
      "cell_type": "markdown",
      "source": [
        "### Definição forma da derivada como um limite\n",
        "\n",
        "Em uma curva não basta cálcular a inclinação da reta entre os dois pontos, precisamos calcular a reta secante e apoximar $P$ de $Q$.\n",
        "\n",
        "<br>\n",
        "\n",
        "$\\dfrac{F(xo+h)- F(xo)}{(xo) - (xo+h)}$ ou simplificando...\n",
        "\n",
        "<br>\n",
        "\n",
        "$\\dfrac{F(xo+h) - F(xo}{h}$\n",
        "\n",
        "<br>\n",
        "\n",
        "Dessa forma, podemos calcular a inclinação da reta secante, e fazendo `h` suficientemente pequenos (tender a zero) podemos achar a inclinação no ponto xo.\n",
        "\n",
        "<br>\n",
        "\n",
        "$$f'(x) = \\lim_{h \\to 0} \\dfrac{F(xo+h)- F(xo)}{h}$$"
      ],
      "metadata": {
        "id": "PxyYNp5dxdhc"
      }
    }
  ]
}