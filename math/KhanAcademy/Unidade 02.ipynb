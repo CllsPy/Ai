{
  "nbformat": 4,
  "nbformat_minor": 0,
  "metadata": {
    "colab": {
      "private_outputs": true,
      "provenance": []
    },
    "kernelspec": {
      "name": "python3",
      "display_name": "Python 3"
    },
    "language_info": {
      "name": "python"
    }
  },
  "cells": [
    {
      "cell_type": "code",
      "execution_count": null,
      "metadata": {
        "id": "IbLDukwMmfsR"
      },
      "outputs": [],
      "source": [
        "import numpy as np\n",
        "import matplotlib.pyplot as plt"
      ]
    },
    {
      "cell_type": "markdown",
      "source": [
        "# Unidade 2\n",
        "\n",
        "1. [Markdown + LaTeX](https://ashki23.github.io/markdown-latex.html)\n",
        "\n",
        "2. [Matplotlib](https://matplotlib.org/stable/users/explain/quick_start.html)\n",
        "\n",
        "3. [how do we know the derivative of ln(x) is 1/x (the definition & implicit differentiation](https://www.youtube.com/watch?v=Xc1YdpWcKsQ)\n"
      ],
      "metadata": {
        "id": "NI8TjqvSmlsJ"
      }
    },
    {
      "cell_type": "markdown",
      "source": [
        "## Newton, Leibniz e Usain Bolt\n",
        "\n",
        "Para achar a velocidade instatânea de um objeto em movimento (considerando que ela varia em cada ponto da sua trajetória), fazemos:\n",
        "\n",
        "<br>\n",
        "\n",
        "$$\\lim_{x \\to 0} \\dfrac{\\Delta y}{\\Delta x}$$\n",
        "\n",
        "\n",
        "<br>\n",
        "\n",
        "Isto é feito justamente porque a essência do cálculo é tentar entender qual a velocidade de algo em um ponto específico da função. Além disso, essa ideia remente ao conceito do **Limite** de uma função.\n",
        "\n",
        "<br>\n",
        "\n",
        "> \"*A inclinação instantâne da reta tangente a um ponto específico da curso chama-se a derivada da função f(x).*\"\n",
        "\n",
        "<br>\n",
        "\n",
        "$$\\lim_{x \\to 0} \\dfrac{\\Delta y}{\\Delta x} = \\dfrac {dy}{dx}$$\n",
        "\n"
      ],
      "metadata": {
        "id": "V3IjejmlmqiY"
      }
    },
    {
      "cell_type": "markdown",
      "source": [
        "## Derivada como conceito\n",
        "\n",
        "A inclinação da uma reta,relaciona a taxa de variação entre uma variável horizonal (x) e uma vertical (f(x)). Para calcular a inclinação usamos:\n",
        "\n",
        "<br>\n",
        "\n",
        "$$\\dfrac{\\Delta y}{\\Delta x} = inclinação$$\n",
        "\n",
        "<br>\n",
        "\n",
        "O cálculo importa porque lhe permite calcular a taxa instantânea em uma curva e não em uma reta (onde essa valor é sempre o mesmo). Como as curvas da imagem abaixo.\n",
        "\n",
        "![](https://encrypted-tbn0.gstatic.com/images?q=tbn:ANd9GcQDB2hK91TDCUnN5YTZISXcw0Gfe0gsZF_tTw&s)\n",
        "\n",
        "Fig 1.\n"
      ],
      "metadata": {
        "id": "47DxOkVZsIVa"
      }
    },
    {
      "cell_type": "markdown",
      "source": [
        "## Retas secantes e taxa de variação média\n"
      ],
      "metadata": {
        "id": "hxPFDYzfwN3W"
      }
    },
    {
      "cell_type": "code",
      "source": [
        "def plotx2():\n",
        "    fig, ax = plt.subplots(figsize=(5, 2.7), layout='constrained')\n",
        "    x = np.linspace(0, 4)\n",
        "    y = [fx**2 for fx in x]\n",
        "\n",
        "    ax.plot(x, y, color='red', linestyle=\"--\")\n",
        "    ax.set_title(\"x^2\")\n",
        "    ax.set_ylabel(\"f(x)\")\n",
        "    ax.set_xlabel(\"x\")\n",
        "    ax.grid(True)\n",
        "\n",
        "plotx2()"
      ],
      "metadata": {
        "id": "HROKUbXywRO9"
      },
      "execution_count": null,
      "outputs": []
    },
    {
      "cell_type": "markdown",
      "source": [
        "Qual seria a variação média em [1, 3] para a funçãoa acima?\n",
        "\n",
        "x|f(x)\n",
        "---|:---\n",
        "1|  1|\n",
        "3|  9|\n",
        "\n",
        "Nesse caso, a variação fica sendo:\n",
        "\n",
        "\n",
        "$$\\dfrac{\\Delta y}{\\Delta x} = \\dfrac{9 - 1}{3 - 1}  = 4$$\n",
        "\n",
        "<br>\n",
        "\n",
        "*Isso significa que, para cada uma unidade que x aumentar, y aumenta 4 unidades.*\n",
        "\n",
        "<br>\n",
        "\n",
        "**Reta Secante**\n",
        "\n",
        "A **reta Secante**,  também é a taxa de variação média.\n",
        "\n",
        "![](https://wiki.sj.ifsc.edu.br/images/8/8c/Reta_secante.png)\n",
        "\n",
        "\n",
        "> Se eu for aproximando $P$ de $Q$, vou ficando cada vez mais próximo da velocidade instântanea, nesse caso, deixa de ser um problema de variação e vira um problema fundamental do cálculo, **a derivada**."
      ],
      "metadata": {
        "id": "SYHNC34Vx6Fa"
      }
    },
    {
      "cell_type": "markdown",
      "source": [
        "## Exercícios\n",
        "\n",
        "<br>\n",
        "\n",
        "1. Qual é o coeficiente angular da reta secante que intercepta o gráfico de $g(x) = 3^{2x} $ em $x = 0$ e $x = 2$?"
      ],
      "metadata": {
        "id": "xopmXK1gfxuY"
      }
    },
    {
      "cell_type": "code",
      "source": [
        "def plotx2():\n",
        "    fig, ax = plt.subplots(figsize=(5, 2.7), layout='constrained')\n",
        "    x = np.linspace(0, 2)\n",
        "    y = [(3**(2*fx)) for fx in x]\n",
        "\n",
        "    ax.plot(x, y, color='red', linestyle=\"--\")\n",
        "    # ax.set_title(\"x^2\")\n",
        "    # ax.set_ylabel(\"f(x)\")\n",
        "    # ax.set_xlabel(\"x\")\n",
        "    ax.grid(True)\n",
        "\n",
        "plotx2()"
      ],
      "metadata": {
        "id": "YaIaVV6igB2v"
      },
      "execution_count": null,
      "outputs": []
    },
    {
      "cell_type": "markdown",
      "source": [
        "\n",
        "## Definição de derivada"
      ],
      "metadata": {
        "id": "A50A7FXTlLfu"
      }
    },
    {
      "cell_type": "markdown",
      "source": [
        "### Definição forma da derivada como um limite\n",
        "\n",
        "Em uma curva não basta cálcular a inclinação da reta entre os dois pontos, precisamos calcular a reta secante e apoximar $P$ de $Q$.\n",
        "\n",
        "<br>\n",
        "\n",
        "$\\dfrac{F(xo+h)- F(xo)}{(xo) - (xo+h)}$ ou simplificando...\n",
        "\n",
        "<br>\n",
        "\n",
        "$\\dfrac{F(xo+h) - F(xo}{h}$\n",
        "\n",
        "<br>\n",
        "\n",
        "Dessa forma, podemos calcular a inclinação da reta secante, e fazendo `h` suficientemente pequenos (tender a zero) podemos achar a inclinação no ponto xo.\n",
        "\n",
        "<br>\n",
        "\n",
        "$$f'(x) = \\lim_{h \\to 0} \\dfrac{F(xo+h)- F(xo)}{h}$$"
      ],
      "metadata": {
        "id": "PxyYNp5dxdhc"
      }
    },
    {
      "cell_type": "markdown",
      "source": [
        "## [Regra da Potência](https://pt.khanacademy.org/math/differential-calculus/dc-diff-intro/dc-power-rule/v/power-rule)\n",
        "\n",
        "### Questions\n",
        "1. O que é a regra da potência e qual a sua utilidade?\n",
        "\n",
        "\n",
        "\n",
        "\n",
        "<br>\n",
        "\n",
        "### Evidences\n",
        "\n",
        "1. É uma regra geral, diz que se f(x) = $x^n$, então f'(x) = $nx^{n-1}$. Para $n \\neq 0$.\n",
        "\n",
        "\n",
        "<br>\n",
        "\n"
      ],
      "metadata": {
        "id": "8BGAgmE_pgHb"
      }
    },
    {
      "cell_type": "code",
      "source": [],
      "metadata": {
        "id": "dzMoJew7Y1cp"
      },
      "execution_count": null,
      "outputs": []
    },
    {
      "cell_type": "markdown",
      "source": [
        "## [Derivadas de cos(x), sen(x), e ln(x)](https://pt.khanacademy.org/math/differential-calculus/dc-diff-intro/dc-more-diff-rules/v/derivatives-of-sinx-and-cosx)\n",
        "\n",
        "<br>\n",
        "\n",
        "![](https://blogger.googleusercontent.com/img/b/R29vZ2xl/AVvXsEjGu9FkKtp5DngRCQi4uurP62jZJcIWPT_1twon-M35v5qAXNLbUoTNIeJMTKRgDP9tO-eINwk-8eQcTZ86CdFxO5y7sGIX6JEoyySr-AHgvSMPQzKRcY9y8rhgWyiw9tl53ZVHP_ZmF6s/s1600/b.png)\n",
        "\n",
        "*Regras de diferenciação*"
      ],
      "metadata": {
        "id": "Xnfiqw7cKDYo"
      }
    },
    {
      "cell_type": "markdown",
      "source": [
        "## Derivadas de quocientes\n",
        "\n",
        "**Derivação de funções racionais**\n",
        "\n",
        "$y=\\dfrac{5-3x}{x^2+3x}$, conside a expressão abaixo. Para solucionar podemos substituir a função no numerador por `u` e o denominador por `v` e finalmente aplicar a regra do **quociente**, desta forma:\n",
        "\n",
        "$y=\\dfrac{u}{v}$ em seguinda $y'=\\dfrac{u'v-uv'}{v^2}$."
      ],
      "metadata": {
        "id": "4mOeU1CVTLxm"
      }
    },
    {
      "cell_type": "markdown",
      "source": [
        "## Derivadas de tg(x), cotg(x), sec(x), e cossec(x)\n",
        "\n",
        "Sabendo que $\\dfrac{d}{dx}[senx] = cos(x)$ e que $\\dfrac{d}{dx}[cos(x)] = -sen(x)$ podemos generalizar e encontrar a derivada para $tg(x)$, $cotg(x)$, $sec(x)$ e $cossec(x)$ se formos capaz de escrever cada uma delas em termos de $sen(x)$ e $cos(x)$."
      ],
      "metadata": {
        "id": "hKLn35XnESO1"
      }
    }
  ]
}